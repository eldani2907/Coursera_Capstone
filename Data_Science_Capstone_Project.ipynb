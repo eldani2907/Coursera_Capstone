{
 "cells": [
  {
   "cell_type": "markdown",
   "id": "9dcd8848-f730-42bf-8ff1-f3e1bd7ff112",
   "metadata": {},
   "source": [
    "# This notebook will be used for the Data Science Capstone Project from Coursera."
   ]
  },
  {
   "cell_type": "markdown",
   "id": "a92ea94a-e3de-4dcf-8ad9-94d1b17624e6",
   "metadata": {},
   "source": [
    "## Import libraries:"
   ]
  },
  {
   "cell_type": "code",
   "execution_count": 1,
   "id": "bf7ab92c-ac08-40f7-b2a8-7b2cb3be29f9",
   "metadata": {},
   "outputs": [],
   "source": [
    "import pandas as pd\n",
    "import numpy as np"
   ]
  },
  {
   "cell_type": "markdown",
   "id": "9b754985-9849-42ee-b0ee-590f9d24859b",
   "metadata": {},
   "source": [
    "## Print statement:"
   ]
  },
  {
   "cell_type": "code",
   "execution_count": 2,
   "id": "4d1e146a-78bf-4e8c-92b1-598dbc7da005",
   "metadata": {},
   "outputs": [
    {
     "name": "stdout",
     "output_type": "stream",
     "text": [
      "Hello Capstone Project Course!\n"
     ]
    }
   ],
   "source": [
    "print(\"Hello Capstone Project Course!\")"
   ]
  }
 ],
 "metadata": {
  "kernelspec": {
   "display_name": "Python 3",
   "language": "python",
   "name": "python3"
  },
  "language_info": {
   "codemirror_mode": {
    "name": "ipython",
    "version": 3
   },
   "file_extension": ".py",
   "mimetype": "text/x-python",
   "name": "python",
   "nbconvert_exporter": "python",
   "pygments_lexer": "ipython3",
   "version": "3.8.8"
  }
 },
 "nbformat": 4,
 "nbformat_minor": 5
}
